{
 "cells": [
  {
   "cell_type": "code",
   "execution_count": 1,
   "id": "6e7f32ea-6985-425b-b43b-07e5e70f7530",
   "metadata": {},
   "outputs": [],
   "source": [
    "import spotipy\n",
    "import spotipy.util as util\n",
    "import webbrowser\n",
    "import json\n",
    "import urllib.request\n",
    "from nltk.corpus import stopwords\n",
    "from nltk import pos_tag\n",
    "import requests\n",
    "import collections"
   ]
  },
  {
   "cell_type": "code",
   "execution_count": 5,
   "id": "ea040421-2333-4249-aead-99dbcdf77e83",
   "metadata": {},
   "outputs": [],
   "source": [
    "# key_file is a variable representing my key txt file\n",
    "\n",
    "with open(\"newsapi.txt\", \"r\")as key_file:\n",
    "    news_key = key_file.read()\n",
    "\n",
    "# close the file\n",
    "key_file.close()\n"
   ]
  },
  {
   "cell_type": "code",
   "execution_count": 8,
   "id": "b575ed28-e35a-416c-83b7-21abd5e5c195",
   "metadata": {},
   "outputs": [
    {
     "name": "stdout",
     "output_type": "stream",
     "text": [
      "https://newsapi.org/v2/top-headlines?country=us&category=technology&apiKey=cda165020a74441fbe535a0d6ed3f805\n"
     ]
    }
   ],
   "source": [
    "country = \"us\"\n",
    "category = \"technology\"\n",
    "url = f\"https://newsapi.org/v2/top-headlines?country={country}&category={category}&apiKey={news_key}\"\n",
    "print(url)"
   ]
  },
  {
   "cell_type": "code",
   "execution_count": 9,
   "id": "e855473a-cc94-4a3f-af96-fa8357ec9ada",
   "metadata": {},
   "outputs": [],
   "source": [
    "request = urllib.request.Request(url)\n",
    "response = urllib.request.urlopen(request)"
   ]
  },
  {
   "cell_type": "code",
   "execution_count": null,
   "id": "d6966f6a-5db5-4d07-a586-3c69389da428",
   "metadata": {},
   "outputs": [],
   "source": []
  }
 ],
 "metadata": {
  "kernelspec": {
   "display_name": "Python 3 (ipykernel)",
   "language": "python",
   "name": "python3"
  },
  "language_info": {
   "codemirror_mode": {
    "name": "ipython",
    "version": 3
   },
   "file_extension": ".py",
   "mimetype": "text/x-python",
   "name": "python",
   "nbconvert_exporter": "python",
   "pygments_lexer": "ipython3",
   "version": "3.12.7"
  }
 },
 "nbformat": 4,
 "nbformat_minor": 5
}
